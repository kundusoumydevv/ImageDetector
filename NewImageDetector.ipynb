{
 "cells": [
  {
   "cell_type": "code",
   "execution_count": null,
   "id": "e2958465",
   "metadata": {},
   "outputs": [],
   "source": [
    "import numpy as np\n",
    "import tensorflow as tf\n",
    "from keras import layers\n",
    "from keras.layers import Input, Dense, Activation,BatchNormalization, Flatten, Conv2D, MaxPooling2D\n",
    "from keras.models import Model\n",
    "from keras.preprocessing import image\n",
    "from keras.preprocessing.image import ImageDataGenerator\n",
    "import keras.backend as K\n",
    "K.set_image_data_format(‘channels_last’)\n",
    "import matplotlib.pyplot as plt\n",
    "from matplotlib.pyplot import imshow"
   ]
  },
  {
   "cell_type": "code",
   "execution_count": null,
   "id": "7b22252a",
   "metadata": {},
   "outputs": [],
   "source": [
    "path = '/home/soumyadev/Project/seg_train/seg_train'\n",
    "train_datagen = ImageDataGenerator(rescale=1. / 255)\n",
    "train = train_datagen.flow_from_directory(path, target_size=(227,227), class_mode='categorical')"
   ]
  },
  {
   "cell_type": "code",
   "execution_count": null,
   "id": "c3c84f4f",
   "metadata": {},
   "outputs": [],
   "source": [
    "print(\"Batch Size for Input Image : \",train[0][0].shape)\n",
    "print(\"Batch Size for Output Image : \",train[0][1].shape)\n",
    "print(\"Image Size of first image : \",train[0][0][0].shape)\n",
    "print(\"Output of first image : \",train[0][1][0].shape)"
   ]
  },
  {
   "cell_type": "code",
   "execution_count": null,
   "id": "ee87beb8",
   "metadata": {},
   "outputs": [],
   "source": [
    "fig , axs = plt.subplots(2,3 ,figsize = (10,10))\n",
    "axs[0][0].imshow(train[0][0][12])\n",
    "axs[0][0].set_title(train[0][1][12])\n",
    "axs[0][1].imshow(train[0][0][10])\n",
    "axs[0][1].set_title(train[0][1][10])\n",
    "axs[0][2].imshow(train[0][0][5])\n",
    "axs[0][2].set_title(train[0][1][5])\n",
    "axs[1][0].imshow(train[0][0][20])\n",
    "axs[1][0].set_title(train[0][1][20])\n",
    "axs[1][1].imshow(train[0][0][25])\n",
    "axs[1][1].set_title(train[0][1][25])\n",
    "axs[1][2].imshow(train[0][0][3])\n",
    "axs[1][2].set_title(train[0][1][3])"
   ]
  },
  {
   "cell_type": "code",
   "execution_count": null,
   "id": "880d63eb",
   "metadata": {},
   "outputs": [],
   "source": [
    "def AlexNet(input_shape):\n",
    "    \n",
    "    X_input = Input(input_shape)\n",
    "    \n",
    "    X = Conv2D(96,(11,11),strides = 4,name=\"conv0\")(X_input)\n",
    "    X = BatchNormalization(axis = 3 , name = \"bn0\")(X)\n",
    "    X = Activation('relu')(X)\n",
    "    \n",
    "    X = MaxPooling2D((3,3),strides = 2,name = 'max0')(X)\n",
    "    \n",
    "    X = Conv2D(256,(5,5),padding = 'same' , name = 'conv1')(X)\n",
    "    X = BatchNormalization(axis = 3 ,name='bn1')(X)\n",
    "    X = Activation('relu')(X)\n",
    "    \n",
    "    X = MaxPooling2D((3,3),strides = 2,name = 'max1')(X)\n",
    "    \n",
    "    X = Conv2D(384, (3,3) , padding = 'same' , name='conv2')(X)\n",
    "    X = BatchNormalization(axis = 3, name = 'bn2')(X)\n",
    "    X = Activation('relu')(X)\n",
    "    \n",
    "    X = Conv2D(384, (3,3) , padding = 'same' , name='conv3')(X)\n",
    "    X = BatchNormalization(axis = 3, name = 'bn3')(X)\n",
    "    X = Activation('relu')(X)\n",
    "    \n",
    "    X = Conv2D(256, (3,3) , padding = 'same' , name='conv4')(X)\n",
    "    X = BatchNormalization(axis = 3, name = 'bn4')(X)\n",
    "    X = Activation('relu')(X)\n",
    "    \n",
    "    X = MaxPooling2D((3,3),strides = 2,name = 'max2')(X)\n",
    "    \n",
    "    X = Flatten()(X)\n",
    "    \n",
    "    X = Dense(4096, activation = 'relu', name = \"fc0\")(X)\n",
    "    \n",
    "    X = Dense(4096, activation = 'relu', name = 'fc1')(X) \n",
    "    \n",
    "    X = Dense(6,activation='softmax',name = 'fc2')(X)\n",
    "    \n",
    "    model = Model(inputs = X_input, outputs = X, name='AlexNet')\n",
    "    return model\n"
   ]
  },
  {
   "cell_type": "code",
   "execution_count": null,
   "id": "930fd373",
   "metadata": {},
   "outputs": [],
   "source": [
    "alex = AlexNet(train[0][0].shape[1:])"
   ]
  },
  {
   "cell_type": "code",
   "execution_count": null,
   "id": "ee885fc1",
   "metadata": {},
   "outputs": [],
   "source": [
    "alex.summary()"
   ]
  },
  {
   "cell_type": "code",
   "execution_count": null,
   "id": "d4587f06",
   "metadata": {},
   "outputs": [],
   "source": [
    "alex.compile(optimizer = 'adam' , loss = 'categorical_crossentropy' , metrics=['accuracy'])"
   ]
  },
  {
   "cell_type": "code",
   "execution_count": null,
   "id": "6bf2ed6a",
   "metadata": {},
   "outputs": [],
   "source": [
    "path_test = '/home/soumyadev/Project/seg_test/seg_test'\n",
    "test_datagen = ImageDataGenerator(rescale=1. / 255)\n",
    "test = test_datagen.flow_from_directory(path_test, target_size=(227,227), class_mode='categorical')"
   ]
  },
  {
   "cell_type": "code",
   "execution_count": null,
   "id": "0aadfc18",
   "metadata": {},
   "outputs": [],
   "source": [
    "preds = kundu.evaluate(test)\n",
    "print (\"Loss = \" + str(preds[0]))\n",
    "print (\"Test Accuracy = \" + str(preds[1]))"
   ]
  },
  {
   "cell_type": "code",
   "execution_count": null,
   "id": "e404dc39",
   "metadata": {},
   "outputs": [],
   "source": [
    "path_test = '/home/soumyadev/Project/seg_pred'\n",
    "predict_datagen = ImageDataGenerator(rescale=1. / 255)\n",
    "predict = predict_datagen.flow_from_directory(path_test, target_size=(227,227), batch_size = 1,class_mode='categorical')\n"
   ]
  },
  {
   "cell_type": "code",
   "execution_count": null,
   "id": "f6d72c30",
   "metadata": {},
   "outputs": [],
   "source": [
    "predictions = kundu.predict(predict)\n",
    "imshow(predict[700][0][0])"
   ]
  },
  {
   "cell_type": "code",
   "execution_count": null,
   "id": "ea1fbe27",
   "metadata": {},
   "outputs": [],
   "source": [
    "print(predictions[700])"
   ]
  },
  {
   "cell_type": "code",
   "execution_count": null,
   "id": "eeb832f6",
   "metadata": {},
   "outputs": [],
   "source": [
    "import os \n",
    "import sys\n",
    "def get_category(predicted_output):\n",
    "    path =\"/home/soumyadev/Project/seg_train/seg_train\"\n",
    "    return os.listdir(path)[np.argmax(predicted_output)]\n"
   ]
  },
  {
   "cell_type": "code",
   "execution_count": null,
   "id": "2cc2b2f3",
   "metadata": {},
   "outputs": [],
   "source": [
    "print(get_category(predictions[800])) #this just shows the function implementation"
   ]
  },
  {
   "cell_type": "code",
   "execution_count": null,
   "id": "d12b7b59",
   "metadata": {},
   "outputs": [],
   "source": [
    "fig , axs = plt.subplots(2,3 ,figsize = (10,10))\n",
    "axs[0][0].imshow(predict[1002][0][0])\n",
    "axs[0][0].set_title(get_category(predictions[1002]))\n",
    "axs[0][1].imshow(predict[22][0][0])\n",
    "axs[0][1].set_title(get_category(predictions[22]))\n",
    "axs[0][2].imshow(predict[1300][0][0])\n",
    "axs[0][2].set_title(get_category(predictions[1300]))\n",
    "axs[1][0].imshow(predict[3300][0][0])\n",
    "axs[1][0].set_title(get_category(predictions[3300]))\n",
    "axs[1][1].imshow(predict[7002][0][0])\n",
    "axs[1][1].set_title(get_category(predictions[7002]))\n",
    "axs[1][2].imshow(predict[512][0][0])\n",
    "axs[1][2].set_title(get_category(predictions[512]))\n"
   ]
  }
 ],
 "metadata": {
  "kernelspec": {
   "display_name": "Python 3 (ipykernel)",
   "language": "python",
   "name": "python3"
  },
  "language_info": {
   "codemirror_mode": {
    "name": "ipython",
    "version": 3
   },
   "file_extension": ".py",
   "mimetype": "text/x-python",
   "name": "python",
   "nbconvert_exporter": "python",
   "pygments_lexer": "ipython3",
   "version": "3.10.4"
  }
 },
 "nbformat": 4,
 "nbformat_minor": 5
}
